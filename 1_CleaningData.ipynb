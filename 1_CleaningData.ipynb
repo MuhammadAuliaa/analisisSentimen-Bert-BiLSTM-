{
 "cells": [
  {
   "cell_type": "code",
   "execution_count": 1,
   "metadata": {
    "executionInfo": {
     "elapsed": 831,
     "status": "ok",
     "timestamp": 1747367210406,
     "user": {
      "displayName": "Muhammad Aulia",
      "userId": "07442516879104875952"
     },
     "user_tz": -420
    },
    "id": "wRpzq6ReXmj3"
   },
   "outputs": [],
   "source": [
    "import pandas as pd\n",
    "import re"
   ]
  },
  {
   "cell_type": "code",
   "execution_count": 2,
   "metadata": {
    "colab": {
     "base_uri": "https://localhost:8080/",
     "height": 424
    },
    "executionInfo": {
     "elapsed": 3281,
     "status": "ok",
     "timestamp": 1747367259536,
     "user": {
      "displayName": "Muhammad Aulia",
      "userId": "07442516879104875952"
     },
     "user_tz": -420
    },
    "id": "PqFA0ZOlXn04",
    "outputId": "c737b6ca-9753-4c93-c03f-c9024aae6f75"
   },
   "outputs": [
    {
     "data": {
      "text/html": [
       "<div>\n",
       "<style scoped>\n",
       "    .dataframe tbody tr th:only-of-type {\n",
       "        vertical-align: middle;\n",
       "    }\n",
       "\n",
       "    .dataframe tbody tr th {\n",
       "        vertical-align: top;\n",
       "    }\n",
       "\n",
       "    .dataframe thead th {\n",
       "        text-align: right;\n",
       "    }\n",
       "</style>\n",
       "<table border=\"1\" class=\"dataframe\">\n",
       "  <thead>\n",
       "    <tr style=\"text-align: right;\">\n",
       "      <th></th>\n",
       "      <th>created_at</th>\n",
       "      <th>username</th>\n",
       "      <th>cleaned_text</th>\n",
       "    </tr>\n",
       "  </thead>\n",
       "  <tbody>\n",
       "    <tr>\n",
       "      <th>0</th>\n",
       "      <td>Tue Mar 28 08:25:55 +0000 2023</td>\n",
       "      <td>0m_man</td>\n",
       "      <td>body ev dapat dibuat dari bauksit yang juga di...</td>\n",
       "    </tr>\n",
       "    <tr>\n",
       "      <th>1</th>\n",
       "      <td>Tue Mar 28 08:25:35 +0000 2023</td>\n",
       "      <td>nabil_aaahh</td>\n",
       "      <td>baterai merupakan komponen utama dalam ev dan ...</td>\n",
       "    </tr>\n",
       "    <tr>\n",
       "      <th>2</th>\n",
       "      <td>Tue Mar 28 08:25:17 +0000 2023</td>\n",
       "      <td>udin_utama</td>\n",
       "      <td>indonesia memiliki semua komponen dan bahan da...</td>\n",
       "    </tr>\n",
       "    <tr>\n",
       "      <th>3</th>\n",
       "      <td>Tue Mar 28 08:24:59 +0000 2023</td>\n",
       "      <td>ass_septut</td>\n",
       "      <td>ev merupakan tongkat bagi indonesia untuk menj...</td>\n",
       "    </tr>\n",
       "    <tr>\n",
       "      <th>4</th>\n",
       "      <td>Tue Mar 28 07:07:16 +0000 2023</td>\n",
       "      <td>Bumn_toba_jago</td>\n",
       "      <td>hadirnya spklu ini juga menjadi perhatian tamu...</td>\n",
       "    </tr>\n",
       "    <tr>\n",
       "      <th>...</th>\n",
       "      <td>...</td>\n",
       "      <td>...</td>\n",
       "      <td>...</td>\n",
       "    </tr>\n",
       "    <tr>\n",
       "      <th>12828</th>\n",
       "      <td>Thu Feb 02 14:56:11 +0000 2023</td>\n",
       "      <td>rido_trio</td>\n",
       "      <td>subsidi mobil listrik di indonesia bukan lah h...</td>\n",
       "    </tr>\n",
       "    <tr>\n",
       "      <th>12829</th>\n",
       "      <td>Thu Feb 02 02:45:41 +0000 2023</td>\n",
       "      <td>faktualid_com</td>\n",
       "      <td>subsidi mobil listrik batal tapi hanya ini pen...</td>\n",
       "    </tr>\n",
       "    <tr>\n",
       "      <th>12830</th>\n",
       "      <td>Wed Feb 01 12:50:57 +0000 2023</td>\n",
       "      <td>CNNIndonesia</td>\n",
       "      <td>alasan wuling harga air ev naik jelang subsidi...</td>\n",
       "    </tr>\n",
       "    <tr>\n",
       "      <th>12831</th>\n",
       "      <td>Wed Feb 01 04:22:19 +0000 2023</td>\n",
       "      <td>BisniscomJatim</td>\n",
       "      <td>terbaru akun yang terkenal sering berdiskusi m...</td>\n",
       "    </tr>\n",
       "    <tr>\n",
       "      <th>12832</th>\n",
       "      <td>Wed Feb 01 03:55:36 +0000 2023</td>\n",
       "      <td>BisniscomJatim</td>\n",
       "      <td>ekonom senior indef faisal basri menilai penya...</td>\n",
       "    </tr>\n",
       "  </tbody>\n",
       "</table>\n",
       "<p>12833 rows × 3 columns</p>\n",
       "</div>"
      ],
      "text/plain": [
       "                           created_at        username  \\\n",
       "0      Tue Mar 28 08:25:55 +0000 2023          0m_man   \n",
       "1      Tue Mar 28 08:25:35 +0000 2023     nabil_aaahh   \n",
       "2      Tue Mar 28 08:25:17 +0000 2023      udin_utama   \n",
       "3      Tue Mar 28 08:24:59 +0000 2023      ass_septut   \n",
       "4      Tue Mar 28 07:07:16 +0000 2023  Bumn_toba_jago   \n",
       "...                               ...             ...   \n",
       "12828  Thu Feb 02 14:56:11 +0000 2023       rido_trio   \n",
       "12829  Thu Feb 02 02:45:41 +0000 2023   faktualid_com   \n",
       "12830  Wed Feb 01 12:50:57 +0000 2023    CNNIndonesia   \n",
       "12831  Wed Feb 01 04:22:19 +0000 2023  BisniscomJatim   \n",
       "12832  Wed Feb 01 03:55:36 +0000 2023  BisniscomJatim   \n",
       "\n",
       "                                            cleaned_text  \n",
       "0      body ev dapat dibuat dari bauksit yang juga di...  \n",
       "1      baterai merupakan komponen utama dalam ev dan ...  \n",
       "2      indonesia memiliki semua komponen dan bahan da...  \n",
       "3      ev merupakan tongkat bagi indonesia untuk menj...  \n",
       "4      hadirnya spklu ini juga menjadi perhatian tamu...  \n",
       "...                                                  ...  \n",
       "12828  subsidi mobil listrik di indonesia bukan lah h...  \n",
       "12829  subsidi mobil listrik batal tapi hanya ini pen...  \n",
       "12830  alasan wuling harga air ev naik jelang subsidi...  \n",
       "12831  terbaru akun yang terkenal sering berdiskusi m...  \n",
       "12832  ekonom senior indef faisal basri menilai penya...  \n",
       "\n",
       "[12833 rows x 3 columns]"
      ]
     },
     "execution_count": 2,
     "metadata": {},
     "output_type": "execute_result"
    }
   ],
   "source": [
    "df = pd.read_csv(\"data/hasil_gabungan_FINAL_nodup.csv\")\n",
    "df"
   ]
  },
  {
   "cell_type": "code",
   "execution_count": null,
   "metadata": {
    "executionInfo": {
     "elapsed": 5,
     "status": "ok",
     "timestamp": 1747367315323,
     "user": {
      "displayName": "Muhammad Aulia",
      "userId": "07442516879104875952"
     },
     "user_tz": -420
    },
    "id": "gMgaANqSX-Pe"
   },
   "outputs": [],
   "source": [
    "# df = df[['username', 'cleaned_text']]"
   ]
  },
  {
   "cell_type": "markdown",
   "metadata": {
    "id": "WtUBOIcdYtUu"
   },
   "source": [
    "### Menghapus nilai False"
   ]
  },
  {
   "cell_type": "code",
   "execution_count": 3,
   "metadata": {
    "colab": {
     "base_uri": "https://localhost:8080/"
    },
    "executionInfo": {
     "elapsed": 11,
     "status": "ok",
     "timestamp": 1747367318391,
     "user": {
      "displayName": "Muhammad Aulia",
      "userId": "07442516879104875952"
     },
     "user_tz": -420
    },
    "id": "zNVAnCQU6T0G",
    "outputId": "69e9402e-b1c8-46b4-bd58-df4b4b86d391"
   },
   "outputs": [
    {
     "name": "stdout",
     "output_type": "stream",
     "text": [
      "<class 'pandas.core.frame.DataFrame'>\n",
      "RangeIndex: 12833 entries, 0 to 12832\n",
      "Data columns (total 3 columns):\n",
      " #   Column        Non-Null Count  Dtype \n",
      "---  ------        --------------  ----- \n",
      " 0   created_at    12833 non-null  object\n",
      " 1   username      12833 non-null  object\n",
      " 2   cleaned_text  12833 non-null  object\n",
      "dtypes: object(3)\n",
      "memory usage: 300.9+ KB\n"
     ]
    }
   ],
   "source": [
    "df.info()"
   ]
  },
  {
   "cell_type": "code",
   "execution_count": 4,
   "metadata": {
    "colab": {
     "base_uri": "https://localhost:8080/"
    },
    "executionInfo": {
     "elapsed": 25,
     "status": "ok",
     "timestamp": 1747367325093,
     "user": {
      "displayName": "Muhammad Aulia",
      "userId": "07442516879104875952"
     },
     "user_tz": -420
    },
    "id": "khN7WxczYBMs",
    "outputId": "ad25fd32-dad6-49f5-8200-5e05760cfaf8"
   },
   "outputs": [],
   "source": [
    "# Metode 1: Menggunakan drop\n",
    "df['cleaned_text'] = df['cleaned_text'].astype(str).str.lower()  # Mengubah teks menjadi lowercase\n",
    "df['cleaned_text'] = df['cleaned_text'].replace('false', pd.NA)  # Mengganti 'false' dengan pd.NA (Not Available)\n",
    "df = df.dropna(subset=['cleaned_text'])\n",
    "\n",
    "# Metode 2: Menggunakan boolean indexing\n",
    "df['cleaned_text'] = df['cleaned_text'].astype(str).str.lower()  # Mengubah teks menjadi lowercase\n",
    "df = df[df['cleaned_text'] != 'false']"
   ]
  },
  {
   "cell_type": "code",
   "execution_count": 5,
   "metadata": {
    "colab": {
     "base_uri": "https://localhost:8080/"
    },
    "executionInfo": {
     "elapsed": 4,
     "status": "ok",
     "timestamp": 1747367326639,
     "user": {
      "displayName": "Muhammad Aulia",
      "userId": "07442516879104875952"
     },
     "user_tz": -420
    },
    "id": "Z1dcc7I8Yws2",
    "outputId": "bd27058b-55c7-4875-f369-dc0b28cee170"
   },
   "outputs": [
    {
     "data": {
      "text/plain": [
       "(12833, 3)"
      ]
     },
     "execution_count": 5,
     "metadata": {},
     "output_type": "execute_result"
    }
   ],
   "source": [
    "df.shape"
   ]
  },
  {
   "cell_type": "code",
   "execution_count": 6,
   "metadata": {
    "executionInfo": {
     "elapsed": 3,
     "status": "ok",
     "timestamp": 1747367330254,
     "user": {
      "displayName": "Muhammad Aulia",
      "userId": "07442516879104875952"
     },
     "user_tz": -420
    },
    "id": "ub-QVIjJYy29"
   },
   "outputs": [],
   "source": [
    "df = df.drop_duplicates(subset=['cleaned_text'])"
   ]
  },
  {
   "cell_type": "code",
   "execution_count": 7,
   "metadata": {
    "colab": {
     "base_uri": "https://localhost:8080/"
    },
    "executionInfo": {
     "elapsed": 15,
     "status": "ok",
     "timestamp": 1747367330878,
     "user": {
      "displayName": "Muhammad Aulia",
      "userId": "07442516879104875952"
     },
     "user_tz": -420
    },
    "id": "RNqae8GoY4CH",
    "outputId": "71475379-5e1e-4927-9566-d9ebf154f4a2"
   },
   "outputs": [
    {
     "data": {
      "text/plain": [
       "0"
      ]
     },
     "execution_count": 7,
     "metadata": {},
     "output_type": "execute_result"
    }
   ],
   "source": [
    "df.duplicated().sum()"
   ]
  },
  {
   "cell_type": "code",
   "execution_count": 8,
   "metadata": {
    "executionInfo": {
     "elapsed": 3,
     "status": "ok",
     "timestamp": 1747367331917,
     "user": {
      "displayName": "Muhammad Aulia",
      "userId": "07442516879104875952"
     },
     "user_tz": -420
    },
    "id": "IWpSGCA5Y4ez"
   },
   "outputs": [],
   "source": [
    "df = df.dropna()"
   ]
  },
  {
   "cell_type": "code",
   "execution_count": 9,
   "metadata": {
    "colab": {
     "base_uri": "https://localhost:8080/",
     "height": 147
    },
    "executionInfo": {
     "elapsed": 23,
     "status": "ok",
     "timestamp": 1747367332344,
     "user": {
      "displayName": "Muhammad Aulia",
      "userId": "07442516879104875952"
     },
     "user_tz": -420
    },
    "id": "AAjJ6hJPY6v4",
    "outputId": "6f4f4ec4-aeea-46d1-d7e6-52bf75bc3b33"
   },
   "outputs": [
    {
     "data": {
      "text/plain": [
       "created_at      0\n",
       "username        0\n",
       "cleaned_text    0\n",
       "dtype: int64"
      ]
     },
     "execution_count": 9,
     "metadata": {},
     "output_type": "execute_result"
    }
   ],
   "source": [
    "df.isnull().sum()"
   ]
  },
  {
   "cell_type": "code",
   "execution_count": 10,
   "metadata": {
    "colab": {
     "base_uri": "https://localhost:8080/"
    },
    "executionInfo": {
     "elapsed": 7,
     "status": "ok",
     "timestamp": 1747367334009,
     "user": {
      "displayName": "Muhammad Aulia",
      "userId": "07442516879104875952"
     },
     "user_tz": -420
    },
    "id": "0a788zcCY8be",
    "outputId": "4bf9b911-e44f-4589-fe48-a1099fe9999e"
   },
   "outputs": [
    {
     "data": {
      "text/plain": [
       "(12833, 3)"
      ]
     },
     "execution_count": 10,
     "metadata": {},
     "output_type": "execute_result"
    }
   ],
   "source": [
    "df.shape"
   ]
  },
  {
   "cell_type": "code",
   "execution_count": 11,
   "metadata": {
    "executionInfo": {
     "elapsed": 176,
     "status": "ok",
     "timestamp": 1747367338455,
     "user": {
      "displayName": "Muhammad Aulia",
      "userId": "07442516879104875952"
     },
     "user_tz": -420
    },
    "id": "kToR4NJCY-Ro"
   },
   "outputs": [],
   "source": [
    "def clean_twitter_text(text):\n",
    "  text = re.sub(r'@[A-Za-z0-9_]+', '', text)\n",
    "  text = re.sub(r'#\\w+', '', text)\n",
    "  text = re.sub(r'RT[\\s]+', '', text)\n",
    "  text = re.sub(r'https?://\\S+', '', text)\n",
    "\n",
    "  text = re.sub(r'[^A-Za-z0-9 ]', '', text)\n",
    "  text = re.sub(r'\\s+', ' ', text).strip()\n",
    "\n",
    "  return text\n",
    "\n",
    "df['cleaned_text'] = df['cleaned_text'].apply(clean_twitter_text)"
   ]
  },
  {
   "cell_type": "code",
   "execution_count": 12,
   "metadata": {
    "colab": {
     "base_uri": "https://localhost:8080/"
    },
    "executionInfo": {
     "elapsed": 16,
     "status": "ok",
     "timestamp": 1747367339193,
     "user": {
      "displayName": "Muhammad Aulia",
      "userId": "07442516879104875952"
     },
     "user_tz": -420
    },
    "id": "vwOk8ZYG62qW",
    "outputId": "3c2c809c-e572-434b-f568-e36fa661e00b"
   },
   "outputs": [
    {
     "name": "stdout",
     "output_type": "stream",
     "text": [
      "<class 'pandas.core.frame.DataFrame'>\n",
      "RangeIndex: 12833 entries, 0 to 12832\n",
      "Data columns (total 3 columns):\n",
      " #   Column        Non-Null Count  Dtype \n",
      "---  ------        --------------  ----- \n",
      " 0   created_at    12833 non-null  object\n",
      " 1   username      12833 non-null  object\n",
      " 2   cleaned_text  12833 non-null  object\n",
      "dtypes: object(3)\n",
      "memory usage: 300.9+ KB\n"
     ]
    }
   ],
   "source": [
    "df.info()"
   ]
  },
  {
   "cell_type": "code",
   "execution_count": 13,
   "metadata": {
    "colab": {
     "base_uri": "https://localhost:8080/",
     "height": 424
    },
    "executionInfo": {
     "elapsed": 56,
     "status": "ok",
     "timestamp": 1747367340427,
     "user": {
      "displayName": "Muhammad Aulia",
      "userId": "07442516879104875952"
     },
     "user_tz": -420
    },
    "id": "FvGALwng643a",
    "outputId": "82526ccc-fef4-4a3c-cd4c-4653faffe89c"
   },
   "outputs": [
    {
     "data": {
      "text/html": [
       "<div>\n",
       "<style scoped>\n",
       "    .dataframe tbody tr th:only-of-type {\n",
       "        vertical-align: middle;\n",
       "    }\n",
       "\n",
       "    .dataframe tbody tr th {\n",
       "        vertical-align: top;\n",
       "    }\n",
       "\n",
       "    .dataframe thead th {\n",
       "        text-align: right;\n",
       "    }\n",
       "</style>\n",
       "<table border=\"1\" class=\"dataframe\">\n",
       "  <thead>\n",
       "    <tr style=\"text-align: right;\">\n",
       "      <th></th>\n",
       "      <th>created_at</th>\n",
       "      <th>username</th>\n",
       "      <th>cleaned_text</th>\n",
       "    </tr>\n",
       "  </thead>\n",
       "  <tbody>\n",
       "    <tr>\n",
       "      <th>0</th>\n",
       "      <td>Tue Mar 28 08:25:55 +0000 2023</td>\n",
       "      <td>0m_man</td>\n",
       "      <td>body ev dapat dibuat dari bauksit yang juga di...</td>\n",
       "    </tr>\n",
       "    <tr>\n",
       "      <th>1</th>\n",
       "      <td>Tue Mar 28 08:25:35 +0000 2023</td>\n",
       "      <td>nabil_aaahh</td>\n",
       "      <td>baterai merupakan komponen utama dalam ev dan ...</td>\n",
       "    </tr>\n",
       "    <tr>\n",
       "      <th>2</th>\n",
       "      <td>Tue Mar 28 08:25:17 +0000 2023</td>\n",
       "      <td>udin_utama</td>\n",
       "      <td>indonesia memiliki semua komponen dan bahan da...</td>\n",
       "    </tr>\n",
       "    <tr>\n",
       "      <th>3</th>\n",
       "      <td>Tue Mar 28 08:24:59 +0000 2023</td>\n",
       "      <td>ass_septut</td>\n",
       "      <td>ev merupakan tongkat bagi indonesia untuk menj...</td>\n",
       "    </tr>\n",
       "    <tr>\n",
       "      <th>4</th>\n",
       "      <td>Tue Mar 28 07:07:16 +0000 2023</td>\n",
       "      <td>Bumn_toba_jago</td>\n",
       "      <td>hadirnya spklu ini juga menjadi perhatian tamu...</td>\n",
       "    </tr>\n",
       "    <tr>\n",
       "      <th>...</th>\n",
       "      <td>...</td>\n",
       "      <td>...</td>\n",
       "      <td>...</td>\n",
       "    </tr>\n",
       "    <tr>\n",
       "      <th>12828</th>\n",
       "      <td>Thu Feb 02 14:56:11 +0000 2023</td>\n",
       "      <td>rido_trio</td>\n",
       "      <td>subsidi mobil listrik di indonesia bukan lah h...</td>\n",
       "    </tr>\n",
       "    <tr>\n",
       "      <th>12829</th>\n",
       "      <td>Thu Feb 02 02:45:41 +0000 2023</td>\n",
       "      <td>faktualid_com</td>\n",
       "      <td>subsidi mobil listrik batal tapi hanya ini pen...</td>\n",
       "    </tr>\n",
       "    <tr>\n",
       "      <th>12830</th>\n",
       "      <td>Wed Feb 01 12:50:57 +0000 2023</td>\n",
       "      <td>CNNIndonesia</td>\n",
       "      <td>alasan wuling harga air ev naik jelang subsidi...</td>\n",
       "    </tr>\n",
       "    <tr>\n",
       "      <th>12831</th>\n",
       "      <td>Wed Feb 01 04:22:19 +0000 2023</td>\n",
       "      <td>BisniscomJatim</td>\n",
       "      <td>terbaru akun yang terkenal sering berdiskusi m...</td>\n",
       "    </tr>\n",
       "    <tr>\n",
       "      <th>12832</th>\n",
       "      <td>Wed Feb 01 03:55:36 +0000 2023</td>\n",
       "      <td>BisniscomJatim</td>\n",
       "      <td>ekonom senior indef faisal basri menilai penya...</td>\n",
       "    </tr>\n",
       "  </tbody>\n",
       "</table>\n",
       "<p>12833 rows × 3 columns</p>\n",
       "</div>"
      ],
      "text/plain": [
       "                           created_at        username  \\\n",
       "0      Tue Mar 28 08:25:55 +0000 2023          0m_man   \n",
       "1      Tue Mar 28 08:25:35 +0000 2023     nabil_aaahh   \n",
       "2      Tue Mar 28 08:25:17 +0000 2023      udin_utama   \n",
       "3      Tue Mar 28 08:24:59 +0000 2023      ass_septut   \n",
       "4      Tue Mar 28 07:07:16 +0000 2023  Bumn_toba_jago   \n",
       "...                               ...             ...   \n",
       "12828  Thu Feb 02 14:56:11 +0000 2023       rido_trio   \n",
       "12829  Thu Feb 02 02:45:41 +0000 2023   faktualid_com   \n",
       "12830  Wed Feb 01 12:50:57 +0000 2023    CNNIndonesia   \n",
       "12831  Wed Feb 01 04:22:19 +0000 2023  BisniscomJatim   \n",
       "12832  Wed Feb 01 03:55:36 +0000 2023  BisniscomJatim   \n",
       "\n",
       "                                            cleaned_text  \n",
       "0      body ev dapat dibuat dari bauksit yang juga di...  \n",
       "1      baterai merupakan komponen utama dalam ev dan ...  \n",
       "2      indonesia memiliki semua komponen dan bahan da...  \n",
       "3      ev merupakan tongkat bagi indonesia untuk menj...  \n",
       "4      hadirnya spklu ini juga menjadi perhatian tamu...  \n",
       "...                                                  ...  \n",
       "12828  subsidi mobil listrik di indonesia bukan lah h...  \n",
       "12829  subsidi mobil listrik batal tapi hanya ini pen...  \n",
       "12830  alasan wuling harga air ev naik jelang subsidi...  \n",
       "12831  terbaru akun yang terkenal sering berdiskusi m...  \n",
       "12832  ekonom senior indef faisal basri menilai penya...  \n",
       "\n",
       "[12833 rows x 3 columns]"
      ]
     },
     "execution_count": 13,
     "metadata": {},
     "output_type": "execute_result"
    }
   ],
   "source": [
    "df"
   ]
  },
  {
   "cell_type": "code",
   "execution_count": 14,
   "metadata": {
    "executionInfo": {
     "elapsed": 93,
     "status": "ok",
     "timestamp": 1747367369528,
     "user": {
      "displayName": "Muhammad Aulia",
      "userId": "07442516879104875952"
     },
     "user_tz": -420
    },
    "id": "Ud-kegiuZEi6"
   },
   "outputs": [],
   "source": [
    "df.to_csv(\"data/dataVisualization.csv\", index=False)"
   ]
  },
  {
   "cell_type": "code",
   "execution_count": null,
   "metadata": {},
   "outputs": [],
   "source": [
    "coba"
   ]
  },
  {
   "cell_type": "code",
   "execution_count": null,
   "metadata": {
    "colab": {
     "base_uri": "https://localhost:8080/"
    },
    "executionInfo": {
     "elapsed": 71777,
     "status": "ok",
     "timestamp": 1747299016667,
     "user": {
      "displayName": "Muhammad Aulia",
      "userId": "07442516879104875952"
     },
     "user_tz": -420
    },
    "id": "L4KmxoR5G3fV",
    "outputId": "5c68a44f-3c37-4148-dee0-4a2abca3a712"
   },
   "outputs": [
    {
     "name": "stderr",
     "output_type": "stream",
     "text": [
      "Device set to use cpu\n"
     ]
    }
   ],
   "source": [
    "# Load sentiment classifier\n",
    "classifier = pipeline(\"sentiment-analysis\", model=\"w11wo/indonesian-roberta-base-sentiment-classifier\")\n",
    "\n",
    "# Fungsi prediksi sentimen\n",
    "def prediksi_sentimen(teks):\n",
    "    hasil = classifier(teks)\n",
    "    # hasil berupa list dict: [{'label': 'POS', 'score': 0.99}]\n",
    "    return hasil[0]['label']\n",
    "\n",
    "# Terapkan ke kolom cleaned_text (ini akan butuh waktu karena 11k data)\n",
    "coba['sentimen'] = coba['full_text'].apply(prediksi_sentimen)"
   ]
  },
  {
   "cell_type": "code",
   "execution_count": null,
   "metadata": {
    "colab": {
     "base_uri": "https://localhost:8080/",
     "height": 210
    },
    "executionInfo": {
     "elapsed": 11,
     "status": "ok",
     "timestamp": 1747299019876,
     "user": {
      "displayName": "Muhammad Aulia",
      "userId": "07442516879104875952"
     },
     "user_tz": -420
    },
    "id": "r_mdKwq2HDYG",
    "outputId": "f68d6128-6a15-4296-8c4e-f138ea553f8a"
   },
   "outputs": [
    {
     "data": {
      "text/html": [
       "<div>\n",
       "<style scoped>\n",
       "    .dataframe tbody tr th:only-of-type {\n",
       "        vertical-align: middle;\n",
       "    }\n",
       "\n",
       "    .dataframe tbody tr th {\n",
       "        vertical-align: top;\n",
       "    }\n",
       "\n",
       "    .dataframe thead th {\n",
       "        text-align: right;\n",
       "    }\n",
       "</style>\n",
       "<table border=\"1\" class=\"dataframe\">\n",
       "  <thead>\n",
       "    <tr style=\"text-align: right;\">\n",
       "      <th></th>\n",
       "      <th>count</th>\n",
       "    </tr>\n",
       "    <tr>\n",
       "      <th>sentimen</th>\n",
       "      <th></th>\n",
       "    </tr>\n",
       "  </thead>\n",
       "  <tbody>\n",
       "    <tr>\n",
       "      <th>neutral</th>\n",
       "      <td>202</td>\n",
       "    </tr>\n",
       "    <tr>\n",
       "      <th>positive</th>\n",
       "      <td>182</td>\n",
       "    </tr>\n",
       "    <tr>\n",
       "      <th>negative</th>\n",
       "      <td>116</td>\n",
       "    </tr>\n",
       "  </tbody>\n",
       "</table>\n",
       "</div><br><label><b>dtype:</b> int64</label>"
      ],
      "text/plain": [
       "sentimen\n",
       "neutral     202\n",
       "positive    182\n",
       "negative    116\n",
       "Name: count, dtype: int64"
      ]
     },
     "execution_count": 76,
     "metadata": {},
     "output_type": "execute_result"
    }
   ],
   "source": [
    "coba.sentimen.value_counts()"
   ]
  },
  {
   "cell_type": "code",
   "execution_count": null,
   "metadata": {
    "colab": {
     "base_uri": "https://localhost:8080/",
     "height": 424
    },
    "executionInfo": {
     "elapsed": 60,
     "status": "ok",
     "timestamp": 1747299045351,
     "user": {
      "displayName": "Muhammad Aulia",
      "userId": "07442516879104875952"
     },
     "user_tz": -420
    },
    "id": "59pS8B1AI4p3",
    "outputId": "997b9b44-1795-4ad8-f16f-b9658e018766"
   },
   "outputs": [
    {
     "data": {
      "application/vnd.google.colaboratory.intrinsic+json": {
       "summary": "{\n  \"name\": \"coba\",\n  \"rows\": 500,\n  \"fields\": [\n    {\n      \"column\": \"username\",\n      \"properties\": {\n        \"dtype\": \"string\",\n        \"num_unique_values\": 427,\n        \"samples\": [\n          \"hazema_hdn4\",\n          \"junaidi_rhn98\",\n          \"Jeanawa_\"\n        ],\n        \"semantic_type\": \"\",\n        \"description\": \"\"\n      }\n    },\n    {\n      \"column\": \"full_text\",\n      \"properties\": {\n        \"dtype\": \"string\",\n        \"num_unique_values\": 468,\n        \"samples\": [\n          \"bentar lagi danantara juga bakal ancur karena dipegang ini orang\",\n          \"investasi lebih dari sekedar uang itulah filosofi danantara danantara terpercaya\",\n          \"wait bang danantara kan baru keluar setelah pemilu selesai pas masih masa kampanye emg mrk menggebor2kan ini ya perasaan cuma mbg mbg aja cmiiw\"\n        ],\n        \"semantic_type\": \"\",\n        \"description\": \"\"\n      }\n    },\n    {\n      \"column\": \"sentimen\",\n      \"properties\": {\n        \"dtype\": \"category\",\n        \"num_unique_values\": 3,\n        \"samples\": [\n          \"neutral\",\n          \"negative\",\n          \"positive\"\n        ],\n        \"semantic_type\": \"\",\n        \"description\": \"\"\n      }\n    }\n  ]\n}",
       "type": "dataframe",
       "variable_name": "coba"
      },
      "text/html": [
       "\n",
       "  <div id=\"df-24712755-b1f3-4bff-9822-2c5f49f7ce25\" class=\"colab-df-container\">\n",
       "    <div>\n",
       "<style scoped>\n",
       "    .dataframe tbody tr th:only-of-type {\n",
       "        vertical-align: middle;\n",
       "    }\n",
       "\n",
       "    .dataframe tbody tr th {\n",
       "        vertical-align: top;\n",
       "    }\n",
       "\n",
       "    .dataframe thead th {\n",
       "        text-align: right;\n",
       "    }\n",
       "</style>\n",
       "<table border=\"1\" class=\"dataframe\">\n",
       "  <thead>\n",
       "    <tr style=\"text-align: right;\">\n",
       "      <th></th>\n",
       "      <th>username</th>\n",
       "      <th>full_text</th>\n",
       "      <th>sentimen</th>\n",
       "    </tr>\n",
       "  </thead>\n",
       "  <tbody>\n",
       "    <tr>\n",
       "      <th>352</th>\n",
       "      <td>armani_sanan</td>\n",
       "      <td>mahasiswa danantara bisa jadi laboratorium ino...</td>\n",
       "      <td>neutral</td>\n",
       "    </tr>\n",
       "    <tr>\n",
       "      <th>1264</th>\n",
       "      <td>_fauzan6</td>\n",
       "      <td>yak blao yg rugikan uang rakyat kalo mereka gk...</td>\n",
       "      <td>negative</td>\n",
       "    </tr>\n",
       "    <tr>\n",
       "      <th>1362</th>\n",
       "      <td>zainilakbar</td>\n",
       "      <td>danantara strategi baru untuk mengelola divide...</td>\n",
       "      <td>neutral</td>\n",
       "    </tr>\n",
       "    <tr>\n",
       "      <th>68</th>\n",
       "      <td>arum_melasari</td>\n",
       "      <td>kpk di libatkan danantara bisa di audit oleh k...</td>\n",
       "      <td>neutral</td>\n",
       "    </tr>\n",
       "    <tr>\n",
       "      <th>870</th>\n",
       "      <td>gayoesme</td>\n",
       "      <td>danantara indonesia percepat pembiayaan transi...</td>\n",
       "      <td>neutral</td>\n",
       "    </tr>\n",
       "    <tr>\n",
       "      <th>...</th>\n",
       "      <td>...</td>\n",
       "      <td>...</td>\n",
       "      <td>...</td>\n",
       "    </tr>\n",
       "    <tr>\n",
       "      <th>1110</th>\n",
       "      <td>cnbcindonesia</td>\n",
       "      <td>komisi xi buka suara soal ihsg coretax apbn hi...</td>\n",
       "      <td>neutral</td>\n",
       "    </tr>\n",
       "    <tr>\n",
       "      <th>1048</th>\n",
       "      <td>acasapitlevite</td>\n",
       "      <td>anjrt anjrt anjrt dah lah gw kmna2 naik burok ...</td>\n",
       "      <td>negative</td>\n",
       "    </tr>\n",
       "    <tr>\n",
       "      <th>1252</th>\n",
       "      <td>PusatInfo3</td>\n",
       "      <td>danantara menjadikan ekonomi indonesia maju</td>\n",
       "      <td>positive</td>\n",
       "    </tr>\n",
       "    <tr>\n",
       "      <th>826</th>\n",
       "      <td>ayers_caid66545</td>\n",
       "      <td>siapa yg akan mengawasi danantara danatara aka...</td>\n",
       "      <td>neutral</td>\n",
       "    </tr>\n",
       "    <tr>\n",
       "      <th>852</th>\n",
       "      <td>gayoesme</td>\n",
       "      <td>danantara dibentuk untuk memperkuat ekonomi in...</td>\n",
       "      <td>neutral</td>\n",
       "    </tr>\n",
       "  </tbody>\n",
       "</table>\n",
       "<p>500 rows × 3 columns</p>\n",
       "</div>\n",
       "    <div class=\"colab-df-buttons\">\n",
       "\n",
       "  <div class=\"colab-df-container\">\n",
       "    <button class=\"colab-df-convert\" onclick=\"convertToInteractive('df-24712755-b1f3-4bff-9822-2c5f49f7ce25')\"\n",
       "            title=\"Convert this dataframe to an interactive table.\"\n",
       "            style=\"display:none;\">\n",
       "\n",
       "  <svg xmlns=\"http://www.w3.org/2000/svg\" height=\"24px\" viewBox=\"0 -960 960 960\">\n",
       "    <path d=\"M120-120v-720h720v720H120Zm60-500h600v-160H180v160Zm220 220h160v-160H400v160Zm0 220h160v-160H400v160ZM180-400h160v-160H180v160Zm440 0h160v-160H620v160ZM180-180h160v-160H180v160Zm440 0h160v-160H620v160Z\"/>\n",
       "  </svg>\n",
       "    </button>\n",
       "\n",
       "  <style>\n",
       "    .colab-df-container {\n",
       "      display:flex;\n",
       "      gap: 12px;\n",
       "    }\n",
       "\n",
       "    .colab-df-convert {\n",
       "      background-color: #E8F0FE;\n",
       "      border: none;\n",
       "      border-radius: 50%;\n",
       "      cursor: pointer;\n",
       "      display: none;\n",
       "      fill: #1967D2;\n",
       "      height: 32px;\n",
       "      padding: 0 0 0 0;\n",
       "      width: 32px;\n",
       "    }\n",
       "\n",
       "    .colab-df-convert:hover {\n",
       "      background-color: #E2EBFA;\n",
       "      box-shadow: 0px 1px 2px rgba(60, 64, 67, 0.3), 0px 1px 3px 1px rgba(60, 64, 67, 0.15);\n",
       "      fill: #174EA6;\n",
       "    }\n",
       "\n",
       "    .colab-df-buttons div {\n",
       "      margin-bottom: 4px;\n",
       "    }\n",
       "\n",
       "    [theme=dark] .colab-df-convert {\n",
       "      background-color: #3B4455;\n",
       "      fill: #D2E3FC;\n",
       "    }\n",
       "\n",
       "    [theme=dark] .colab-df-convert:hover {\n",
       "      background-color: #434B5C;\n",
       "      box-shadow: 0px 1px 3px 1px rgba(0, 0, 0, 0.15);\n",
       "      filter: drop-shadow(0px 1px 2px rgba(0, 0, 0, 0.3));\n",
       "      fill: #FFFFFF;\n",
       "    }\n",
       "  </style>\n",
       "\n",
       "    <script>\n",
       "      const buttonEl =\n",
       "        document.querySelector('#df-24712755-b1f3-4bff-9822-2c5f49f7ce25 button.colab-df-convert');\n",
       "      buttonEl.style.display =\n",
       "        google.colab.kernel.accessAllowed ? 'block' : 'none';\n",
       "\n",
       "      async function convertToInteractive(key) {\n",
       "        const element = document.querySelector('#df-24712755-b1f3-4bff-9822-2c5f49f7ce25');\n",
       "        const dataTable =\n",
       "          await google.colab.kernel.invokeFunction('convertToInteractive',\n",
       "                                                    [key], {});\n",
       "        if (!dataTable) return;\n",
       "\n",
       "        const docLinkHtml = 'Like what you see? Visit the ' +\n",
       "          '<a target=\"_blank\" href=https://colab.research.google.com/notebooks/data_table.ipynb>data table notebook</a>'\n",
       "          + ' to learn more about interactive tables.';\n",
       "        element.innerHTML = '';\n",
       "        dataTable['output_type'] = 'display_data';\n",
       "        await google.colab.output.renderOutput(dataTable, element);\n",
       "        const docLink = document.createElement('div');\n",
       "        docLink.innerHTML = docLinkHtml;\n",
       "        element.appendChild(docLink);\n",
       "      }\n",
       "    </script>\n",
       "  </div>\n",
       "\n",
       "\n",
       "    <div id=\"df-c99c508f-1959-467a-8ae2-4cb6f9943b5a\">\n",
       "      <button class=\"colab-df-quickchart\" onclick=\"quickchart('df-c99c508f-1959-467a-8ae2-4cb6f9943b5a')\"\n",
       "                title=\"Suggest charts\"\n",
       "                style=\"display:none;\">\n",
       "\n",
       "<svg xmlns=\"http://www.w3.org/2000/svg\" height=\"24px\"viewBox=\"0 0 24 24\"\n",
       "     width=\"24px\">\n",
       "    <g>\n",
       "        <path d=\"M19 3H5c-1.1 0-2 .9-2 2v14c0 1.1.9 2 2 2h14c1.1 0 2-.9 2-2V5c0-1.1-.9-2-2-2zM9 17H7v-7h2v7zm4 0h-2V7h2v10zm4 0h-2v-4h2v4z\"/>\n",
       "    </g>\n",
       "</svg>\n",
       "      </button>\n",
       "\n",
       "<style>\n",
       "  .colab-df-quickchart {\n",
       "      --bg-color: #E8F0FE;\n",
       "      --fill-color: #1967D2;\n",
       "      --hover-bg-color: #E2EBFA;\n",
       "      --hover-fill-color: #174EA6;\n",
       "      --disabled-fill-color: #AAA;\n",
       "      --disabled-bg-color: #DDD;\n",
       "  }\n",
       "\n",
       "  [theme=dark] .colab-df-quickchart {\n",
       "      --bg-color: #3B4455;\n",
       "      --fill-color: #D2E3FC;\n",
       "      --hover-bg-color: #434B5C;\n",
       "      --hover-fill-color: #FFFFFF;\n",
       "      --disabled-bg-color: #3B4455;\n",
       "      --disabled-fill-color: #666;\n",
       "  }\n",
       "\n",
       "  .colab-df-quickchart {\n",
       "    background-color: var(--bg-color);\n",
       "    border: none;\n",
       "    border-radius: 50%;\n",
       "    cursor: pointer;\n",
       "    display: none;\n",
       "    fill: var(--fill-color);\n",
       "    height: 32px;\n",
       "    padding: 0;\n",
       "    width: 32px;\n",
       "  }\n",
       "\n",
       "  .colab-df-quickchart:hover {\n",
       "    background-color: var(--hover-bg-color);\n",
       "    box-shadow: 0 1px 2px rgba(60, 64, 67, 0.3), 0 1px 3px 1px rgba(60, 64, 67, 0.15);\n",
       "    fill: var(--button-hover-fill-color);\n",
       "  }\n",
       "\n",
       "  .colab-df-quickchart-complete:disabled,\n",
       "  .colab-df-quickchart-complete:disabled:hover {\n",
       "    background-color: var(--disabled-bg-color);\n",
       "    fill: var(--disabled-fill-color);\n",
       "    box-shadow: none;\n",
       "  }\n",
       "\n",
       "  .colab-df-spinner {\n",
       "    border: 2px solid var(--fill-color);\n",
       "    border-color: transparent;\n",
       "    border-bottom-color: var(--fill-color);\n",
       "    animation:\n",
       "      spin 1s steps(1) infinite;\n",
       "  }\n",
       "\n",
       "  @keyframes spin {\n",
       "    0% {\n",
       "      border-color: transparent;\n",
       "      border-bottom-color: var(--fill-color);\n",
       "      border-left-color: var(--fill-color);\n",
       "    }\n",
       "    20% {\n",
       "      border-color: transparent;\n",
       "      border-left-color: var(--fill-color);\n",
       "      border-top-color: var(--fill-color);\n",
       "    }\n",
       "    30% {\n",
       "      border-color: transparent;\n",
       "      border-left-color: var(--fill-color);\n",
       "      border-top-color: var(--fill-color);\n",
       "      border-right-color: var(--fill-color);\n",
       "    }\n",
       "    40% {\n",
       "      border-color: transparent;\n",
       "      border-right-color: var(--fill-color);\n",
       "      border-top-color: var(--fill-color);\n",
       "    }\n",
       "    60% {\n",
       "      border-color: transparent;\n",
       "      border-right-color: var(--fill-color);\n",
       "    }\n",
       "    80% {\n",
       "      border-color: transparent;\n",
       "      border-right-color: var(--fill-color);\n",
       "      border-bottom-color: var(--fill-color);\n",
       "    }\n",
       "    90% {\n",
       "      border-color: transparent;\n",
       "      border-bottom-color: var(--fill-color);\n",
       "    }\n",
       "  }\n",
       "</style>\n",
       "\n",
       "      <script>\n",
       "        async function quickchart(key) {\n",
       "          const quickchartButtonEl =\n",
       "            document.querySelector('#' + key + ' button');\n",
       "          quickchartButtonEl.disabled = true;  // To prevent multiple clicks.\n",
       "          quickchartButtonEl.classList.add('colab-df-spinner');\n",
       "          try {\n",
       "            const charts = await google.colab.kernel.invokeFunction(\n",
       "                'suggestCharts', [key], {});\n",
       "          } catch (error) {\n",
       "            console.error('Error during call to suggestCharts:', error);\n",
       "          }\n",
       "          quickchartButtonEl.classList.remove('colab-df-spinner');\n",
       "          quickchartButtonEl.classList.add('colab-df-quickchart-complete');\n",
       "        }\n",
       "        (() => {\n",
       "          let quickchartButtonEl =\n",
       "            document.querySelector('#df-c99c508f-1959-467a-8ae2-4cb6f9943b5a button');\n",
       "          quickchartButtonEl.style.display =\n",
       "            google.colab.kernel.accessAllowed ? 'block' : 'none';\n",
       "        })();\n",
       "      </script>\n",
       "    </div>\n",
       "\n",
       "  <div id=\"id_f32661a9-b37a-49ac-8ed6-8ad13b3b1a20\">\n",
       "    <style>\n",
       "      .colab-df-generate {\n",
       "        background-color: #E8F0FE;\n",
       "        border: none;\n",
       "        border-radius: 50%;\n",
       "        cursor: pointer;\n",
       "        display: none;\n",
       "        fill: #1967D2;\n",
       "        height: 32px;\n",
       "        padding: 0 0 0 0;\n",
       "        width: 32px;\n",
       "      }\n",
       "\n",
       "      .colab-df-generate:hover {\n",
       "        background-color: #E2EBFA;\n",
       "        box-shadow: 0px 1px 2px rgba(60, 64, 67, 0.3), 0px 1px 3px 1px rgba(60, 64, 67, 0.15);\n",
       "        fill: #174EA6;\n",
       "      }\n",
       "\n",
       "      [theme=dark] .colab-df-generate {\n",
       "        background-color: #3B4455;\n",
       "        fill: #D2E3FC;\n",
       "      }\n",
       "\n",
       "      [theme=dark] .colab-df-generate:hover {\n",
       "        background-color: #434B5C;\n",
       "        box-shadow: 0px 1px 3px 1px rgba(0, 0, 0, 0.15);\n",
       "        filter: drop-shadow(0px 1px 2px rgba(0, 0, 0, 0.3));\n",
       "        fill: #FFFFFF;\n",
       "      }\n",
       "    </style>\n",
       "    <button class=\"colab-df-generate\" onclick=\"generateWithVariable('coba')\"\n",
       "            title=\"Generate code using this dataframe.\"\n",
       "            style=\"display:none;\">\n",
       "\n",
       "  <svg xmlns=\"http://www.w3.org/2000/svg\" height=\"24px\"viewBox=\"0 0 24 24\"\n",
       "       width=\"24px\">\n",
       "    <path d=\"M7,19H8.4L18.45,9,17,7.55,7,17.6ZM5,21V16.75L18.45,3.32a2,2,0,0,1,2.83,0l1.4,1.43a1.91,1.91,0,0,1,.58,1.4,1.91,1.91,0,0,1-.58,1.4L9.25,21ZM18.45,9,17,7.55Zm-12,3A5.31,5.31,0,0,0,4.9,8.1,5.31,5.31,0,0,0,1,6.5,5.31,5.31,0,0,0,4.9,4.9,5.31,5.31,0,0,0,6.5,1,5.31,5.31,0,0,0,8.1,4.9,5.31,5.31,0,0,0,12,6.5,5.46,5.46,0,0,0,6.5,12Z\"/>\n",
       "  </svg>\n",
       "    </button>\n",
       "    <script>\n",
       "      (() => {\n",
       "      const buttonEl =\n",
       "        document.querySelector('#id_f32661a9-b37a-49ac-8ed6-8ad13b3b1a20 button.colab-df-generate');\n",
       "      buttonEl.style.display =\n",
       "        google.colab.kernel.accessAllowed ? 'block' : 'none';\n",
       "\n",
       "      buttonEl.onclick = () => {\n",
       "        google.colab.notebook.generateWithVariable('coba');\n",
       "      }\n",
       "      })();\n",
       "    </script>\n",
       "  </div>\n",
       "\n",
       "    </div>\n",
       "  </div>\n"
      ],
      "text/plain": [
       "             username                                          full_text  \\\n",
       "352      armani_sanan  mahasiswa danantara bisa jadi laboratorium ino...   \n",
       "1264         _fauzan6  yak blao yg rugikan uang rakyat kalo mereka gk...   \n",
       "1362      zainilakbar  danantara strategi baru untuk mengelola divide...   \n",
       "68      arum_melasari  kpk di libatkan danantara bisa di audit oleh k...   \n",
       "870          gayoesme  danantara indonesia percepat pembiayaan transi...   \n",
       "...               ...                                                ...   \n",
       "1110    cnbcindonesia  komisi xi buka suara soal ihsg coretax apbn hi...   \n",
       "1048   acasapitlevite  anjrt anjrt anjrt dah lah gw kmna2 naik burok ...   \n",
       "1252       PusatInfo3        danantara menjadikan ekonomi indonesia maju   \n",
       "826   ayers_caid66545  siapa yg akan mengawasi danantara danatara aka...   \n",
       "852          gayoesme  danantara dibentuk untuk memperkuat ekonomi in...   \n",
       "\n",
       "      sentimen  \n",
       "352    neutral  \n",
       "1264  negative  \n",
       "1362   neutral  \n",
       "68     neutral  \n",
       "870    neutral  \n",
       "...        ...  \n",
       "1110   neutral  \n",
       "1048  negative  \n",
       "1252  positive  \n",
       "826    neutral  \n",
       "852    neutral  \n",
       "\n",
       "[500 rows x 3 columns]"
      ]
     },
     "execution_count": 77,
     "metadata": {},
     "output_type": "execute_result"
    }
   ],
   "source": [
    "coba"
   ]
  },
  {
   "cell_type": "code",
   "execution_count": null,
   "metadata": {
    "colab": {
     "base_uri": "https://localhost:8080/"
    },
    "executionInfo": {
     "elapsed": 668,
     "status": "ok",
     "timestamp": 1747299125393,
     "user": {
      "displayName": "Muhammad Aulia",
      "userId": "07442516879104875952"
     },
     "user_tz": -420
    },
    "id": "shuTYJljZFgd",
    "outputId": "05638d89-9721-4c59-9905-cc92c717a976"
   },
   "outputs": [
    {
     "name": "stderr",
     "output_type": "stream",
     "text": [
      "Device set to use cpu\n"
     ]
    },
    {
     "data": {
      "text/plain": [
       "[{'label': 'neutral', 'score': 0.9678428173065186}]"
      ]
     },
     "execution_count": 83,
     "metadata": {},
     "output_type": "execute_result"
    }
   ],
   "source": [
    "from transformers import pipeline\n",
    "\n",
    "classifier = pipeline(\"sentiment-analysis\", model=\"w11wo/indonesian-roberta-base-sentiment-classifier\")\n",
    "result = classifier(\"saya duduk di kamar\")\n",
    "result"
   ]
  },
  {
   "cell_type": "code",
   "execution_count": null,
   "metadata": {
    "id": "VfnWyYFfWElu"
   },
   "outputs": [],
   "source": []
  }
 ],
 "metadata": {
  "colab": {
   "authorship_tag": "ABX9TyMCCLesNo0GFAcpOQLcMCG3",
   "mount_file_id": "1DIO855rx76rTQEwyF7Z3bYbwPM7NN9NX",
   "provenance": []
  },
  "kernelspec": {
   "display_name": "base",
   "language": "python",
   "name": "python3"
  },
  "language_info": {
   "codemirror_mode": {
    "name": "ipython",
    "version": 3
   },
   "file_extension": ".py",
   "mimetype": "text/x-python",
   "name": "python",
   "nbconvert_exporter": "python",
   "pygments_lexer": "ipython3",
   "version": "3.12.2"
  }
 },
 "nbformat": 4,
 "nbformat_minor": 0
}
